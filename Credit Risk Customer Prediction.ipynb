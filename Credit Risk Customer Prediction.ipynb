{
 "cells": [
  {
   "cell_type": "markdown",
   "metadata": {
    "id": "oZFTCX4DqmRO"
   },
   "source": [
    "# Clustering \n",
    "\n"
   ]
  },
  {
   "cell_type": "markdown",
   "metadata": {
    "id": "B_IHoz7f2yIV"
   },
   "source": [
    "# Question 3: Uncle Steve's Credit Union"
   ]
  },
  {
   "cell_type": "markdown",
   "metadata": {
    "id": "WhERdkp_zYBY"
   },
   "source": [
    "## Instructions\n",
    "\n",
    "Uncle Steve has recently opened a new credit union in Kingston, named *Uncle Steve's Credit Union*. He plans to disrupt the local market by instaneously providing credit to customers.\n",
    "\n",
    "The first step in Uncle Steve's master plan is to create a model to predict whether an application has *good risk* or *bad risk*. He has outsourced the creation of this model to you.\n",
    "\n",
    "You are to create a classification model to predict whether a loan applicant has good risk or bad risk. You will use data  that Uncle Steve bought from another credit union (somewhere in Europe, he thinks?) that has around 6000 instances and a number of demographics features (e.g., `Sex`, `DateOfBirth`, `Married`), loan details (e.g., `Amount`, `Purpose`), credit history (e.g., number of loans), as well as an indicator (called `BadCredit` in the dataset) as to whether that person was a bad risk.\n",
    "\n",
    "\n",
    "**Your tasks**\n",
    "\n",
    "To examine the effects of the various ML stages, you are to create the model several times, each time adding more sophistication, and measuring how much the model improved (or not). In particular, you will:\n",
    "\n",
    "0. Split the data in training and testing. Don't touch the testing data again, for any reason, until step 5. We are pretending that the testing data is \"future, unseen data that our model won't see until production.\" I'm serious, don't touch it. I'm watching you!\n",
    "1. Build a baseline model - no feature engineering, no feature selection, no hyperparameter tuning (just use the default settings), nothing fancy. (You may need to do some basic feature transformations, e.g., encoding of categorical features, or dropping of features you do not think will help or do not want to deal with yet.) Measure the performance using K-fold cross validation (recommended: [`sklearn.model_selection.cross_val_score`](https://scikit-learn.org/stable/modules/generated/sklearn.model_selection.cross_val_score.html#sklearn.model_selection.cross_val_score)) on the training data. Use at least 5 folds, but more are better. Choose a [`scoring` parameter](https://scikit-learn.org/stable/modules/model_evaluation.html#scoring-parameter) (i.e., classification metric) that you feel is appropriate for this task. Don't use accuracy. Print the mean score of your model.\n",
    "2. Add a bit of feature engineering. The [`sklearn.preprocessing`](https://scikit-learn.org/stable/modules/classes.html#module-sklearn.preprocessing) module contains many useful transformations. Engineer at least three new features. They don't need to be especially ground-breaking or complicated. Dimensionality reduction techniques like [`sklearn.decomposition.PCA`](https://scikit-learn.org/stable/modules/generated/sklearn.decomposition.PCA.html) are fair game but not required. (If you do use dimensionality reduction techniques, it would only count as \"one\" new feature for the purposes of this assignment, even though I realize that PCA creates many new \"features\" (i.e., principal componentns).) Re-train your baseline model. Measure performance. Compare to step 1.\n",
    "3. Add feature selection. The [`sklearn.feature_selection`](https://scikit-learn.org/stable/modules/classes.html#module-sklearn.feature_selection) has some algorithms for you to choose from. After selecting features, re-train your model, measure performance, and compare to step 2.\n",
    "4. Add hyperparameter tuning. Make reasonable choices and try to find the best (or at least, better) hyperparameters for your estimator and/or transformers. It's probably a good idea to stop using `cross_val_score` at this point and start using [`sklearn.model_selection.GridSearchCV`](https://scikit-learn.org/stable/modules/generated/sklearn.model_selection.GridSearchCV.html#sklearn.model_selection.GridSearchCV) as it is specifically built for this purpose and is more convienient to use. Measure performance and compare to step 3.\n",
    "5. Finally, estimate how well your model will work in production. Use the testing data (our \"future, unseen data\") from step 0. Transform the data as appropriate (easy if you've built a pipeline, a little more difficult if not), use the model from step 4 to get predictions, and measure the performance. How well did we do? \n",
    "\n",
    "\n",
    "**Marking**\n",
    "\n",
    "Each part will be marked for:\n",
    "- *Correctness*. Code clearly and fully performs the task specified.\n",
    "- *Reproducibility*. Code is fully reproducible. I.e., you (and I) should be able to run this Notebook again and again, from top to bottom, and get the same results each and every time.\n",
    "- *Style*. Code is organized. All parts commented with clear reasoning and rationale. No old code laying around. Code easy to follow. \n",
    "\n",
    "\n",
    "**Tips**\n",
    "- The origins of the dataset are a bit of a mystery. Assume the data set is recent (circa 2021) and up-to-date. Assume that column names are correct and accurate.\n",
    "- You don't need to experiment with more than one algorithm/estimator. Just choose one (e.g., [`sklearn.tree.DecisionTreeClassifier`](https://scikit-learn.org/stable/modules/generated/sklearn.tree.DecisionTreeClassifier.html#sklearn.tree.DecisionTreeClassifier), [`sklearn.ensemble.RandomForestClassifier`](https://scikit-learn.org/stable/modules/generated/sklearn.ensemble.RandomForestClassifier.html#sklearn.ensemble.RandomForestClassifier), [`sklearn.linear_model.LogisticRegression`](https://scikit-learn.org/stable/modules/generated/sklearn.linear_model.LogisticRegression.html#sklearn.linear_model.LogisticRegression), [`sklearn.svm.LinearSVC`](https://scikit-learn.org/stable/modules/generated/sklearn.svm.LinearSVC.html#sklearn.svm.LinearSVC), whatever) and stick with it for this question. \n",
    "- There is no minimum accuracy/precision/recall for this question. I.e., your mark will not be based on how good your model is. Rather, you mark will be based on good your process is.\n",
    "- Watch out for data leakage and overfitting. In particular, be sure to `fit()` any estimators and transformers (collectively, *objects*) only to the training data, and then use the objects' `transform()` methods on both the training and testing data. [Data School](https://www.youtube.com/c/dataschool/featured) has a [helpful video](https://www.youtube.com/watch?v=g2XsZdwbCCs) about this. [Pipelines](https://www.youtube.com/watch?v=1Y6O9nCo0-I) are very helpful here and make your code shorter and more robust (at the expense of making it harder to understand), and I recommend using them, but they are not required for this assignment.\n",
    "- Create as many code cells as you need. In general, each cell should do one \"thing.\"\n",
    "-\tDon't print large volumes of output. E.g., don't do: `df.head(100)`\n",
    "\n",
    "\n"
   ]
  },
  {
   "cell_type": "markdown",
   "metadata": {
    "id": "jqm_REd4oouz"
   },
   "source": [
    "## 3.0: Load data and split"
   ]
  },
  {
   "cell_type": "code",
   "execution_count": null,
   "metadata": {
    "colab": {
     "base_uri": "https://localhost:8080/"
    },
    "id": "X6b_BM0Nz9sF",
    "outputId": "9c8051e5-8308-4de9-88fa-46111959cc0b"
   },
   "outputs": [
    {
     "name": "stdout",
     "output_type": "stream",
     "text": [
      "<class 'pandas.core.frame.DataFrame'>\n",
      "RangeIndex: 6000 entries, 0 to 5999\n",
      "Data columns (total 17 columns):\n",
      " #   Column             Non-Null Count  Dtype \n",
      "---  ------             --------------  ----- \n",
      " 0   UserID             6000 non-null   object\n",
      " 1   Sex                6000 non-null   object\n",
      " 2   PreviousDefault    6000 non-null   int64 \n",
      " 3   FirstName          6000 non-null   object\n",
      " 4   LastName           6000 non-null   object\n",
      " 5   NumberPets         6000 non-null   int64 \n",
      " 6   PreviousAccounts   6000 non-null   int64 \n",
      " 7   ResidenceDuration  6000 non-null   int64 \n",
      " 8   Street             6000 non-null   object\n",
      " 9   LicensePlate       6000 non-null   object\n",
      " 10  BadCredit          6000 non-null   int64 \n",
      " 11  Amount             6000 non-null   int64 \n",
      " 12  Married            6000 non-null   int64 \n",
      " 13  Duration           6000 non-null   int64 \n",
      " 14  City               6000 non-null   object\n",
      " 15  Purpose            6000 non-null   object\n",
      " 16  DateOfBirth        6000 non-null   object\n",
      "dtypes: int64(8), object(9)\n",
      "memory usage: 797.0+ KB\n"
     ]
    }
   ],
   "source": [
    "# DO NOT MODIFY THIS CELL\n",
    "\n",
    "# First, we'll read the provided labeled training data\n",
    "df3 = pd.read_csv(\"https://drive.google.com/uc?export=download&id=1wOhyCnvGeY4jplxI8lZ-bbYN3zLtickf\")\n",
    "df3.info()\n",
    "\n",
    "from sklearn.model_selection import train_test_split\n",
    "\n",
    "X = df3.drop('BadCredit', axis=1) #.select_dtypes(['number'])\n",
    "y = df3['BadCredit']\n",
    "\n",
    "X_train, X_test, y_train, y_test = train_test_split(X, y, test_size=0.2, random_state=42)"
   ]
  },
  {
   "cell_type": "code",
   "execution_count": null,
   "metadata": {
    "colab": {
     "base_uri": "https://localhost:8080/"
    },
    "id": "JZrHVapwpCQb",
    "outputId": "c6d37473-abc2-4168-ba5a-3978cc1e611a"
   },
   "outputs": [
    {
     "name": "stdout",
     "output_type": "stream",
     "text": [
      "           UserID Sex  PreviousDefault  ...              City    Purpose  DateOfBirth\n",
      "0     218-84-8180   F                0  ...        Port Keith   Vacation   1964-04-07\n",
      "1     395-49-9764   M                0  ...        Lake Debra     NewCar   1978-06-02\n",
      "2     892-81-4890   F                0  ...  North Judithbury     NewCar   1972-03-18\n",
      "3     081-11-7963   F                0  ...         Lake Chad      Other   1985-02-26\n",
      "4     347-03-9639   M                0  ...  North Judithbury   Vacation   1983-08-08\n",
      "...           ...  ..              ...  ...               ...        ...          ...\n",
      "5995  290-91-5587   F                0  ...    East Jessetown     Repair   1968-08-25\n",
      "5996  137-27-2025   M                0  ...          Lisatown     NewCar   1969-08-15\n",
      "5997  061-50-0051   M                0  ...    New Roberttown  Education   1977-04-12\n",
      "5998  239-62-7143   M                0  ...  North Judithbury     NewCar   1966-06-12\n",
      "5999  367-72-7571   F                0  ...  North Judithbury    UsedCar   1979-06-29\n",
      "\n",
      "[6000 rows x 17 columns]\n",
      "           UserID Sex  PreviousDefault  ...              City    Purpose  DateOfBirth\n",
      "3897  236-22-6766   M                0  ...    New Roberttown  Household   1970-04-22\n",
      "5628  766-20-5986   F                0  ...         Ericmouth  Household   1964-06-19\n",
      "1756  744-25-5747   F                0  ...         East Jill     NewCar   1975-02-17\n",
      "2346  463-78-3098   F                0  ...        Lake Debra    UsedCar   1977-02-16\n",
      "2996  414-44-6527   M                0  ...  North Judithbury   Vacation   1976-07-27\n",
      "...           ...  ..              ...  ...               ...        ...          ...\n",
      "3772  888-92-1021   F                0  ...     Robinsonshire     NewCar   1973-01-04\n",
      "5191  875-64-1301   F                0  ...  North Judithbury     NewCar   1973-12-25\n",
      "5226  584-74-0175   F                0  ...      Lake Roberto   Business   1969-02-25\n",
      "5390  507-44-5910   F                0  ...        Lake Debra      Other   1967-01-09\n",
      "860   256-96-0929   F                0  ...  North Judithbury     NewCar   1988-10-16\n",
      "\n",
      "[4800 rows x 16 columns]\n",
      "3897    0\n",
      "5628    0\n",
      "1756    0\n",
      "2346    0\n",
      "2996    0\n",
      "       ..\n",
      "3772    0\n",
      "5191    0\n",
      "5226    0\n",
      "5390    0\n",
      "860     1\n",
      "Name: BadCredit, Length: 4800, dtype: int64\n"
     ]
    }
   ],
   "source": [
    "#********************************************************************************************************************************************************************************\n",
    "#Doing Basic Checks\n",
    "#********************************************************************************************************************************************************************************\n",
    "print(df3);print(X_train);print(y_train)"
   ]
  },
  {
   "cell_type": "code",
   "execution_count": null,
   "metadata": {
    "colab": {
     "base_uri": "https://localhost:8080/"
    },
    "id": "mG3cAYrY6cs3",
    "outputId": "a87eac05-2c80-4316-9921-9f1ddbe3b640"
   },
   "outputs": [
    {
     "data": {
      "text/plain": [
       "UserID               0\n",
       "Sex                  0\n",
       "PreviousDefault      0\n",
       "FirstName            0\n",
       "LastName             0\n",
       "NumberPets           0\n",
       "PreviousAccounts     0\n",
       "ResidenceDuration    0\n",
       "Street               0\n",
       "LicensePlate         0\n",
       "Amount               0\n",
       "Married              0\n",
       "Duration             0\n",
       "City                 0\n",
       "Purpose              0\n",
       "DateOfBirth          0\n",
       "dtype: int64"
      ]
     },
     "execution_count": 40,
     "metadata": {},
     "output_type": "execute_result"
    }
   ],
   "source": [
    "#********************************************************************************************************************************************************************************\n",
    "#Checking for Null values\n",
    "#********************************************************************************************************************************************************************************\n",
    "\n",
    "X_train.isna().sum()"
   ]
  },
  {
   "cell_type": "code",
   "execution_count": null,
   "metadata": {
    "colab": {
     "base_uri": "https://localhost:8080/",
     "height": 400
    },
    "id": "JlxPjIfa6pKu",
    "outputId": "b4651315-c344-47d3-abbb-048bce84bb61"
   },
   "outputs": [
    {
     "name": "stderr",
     "output_type": "stream",
     "text": [
      "/usr/local/lib/python3.7/dist-packages/seaborn/categorical.py:3717: UserWarning: The `factorplot` function has been renamed to `catplot`. The original name will be removed in a future release. Please update your code. Note that the default `kind` in `factorplot` (`'point'`) has changed `'strip'` in `catplot`.\n",
      "  warnings.warn(msg)\n",
      "/usr/local/lib/python3.7/dist-packages/seaborn/_decorators.py:43: FutureWarning: Pass the following variable as a keyword arg: x. From version 0.12, the only valid positional argument will be `data`, and passing other arguments without an explicit keyword will result in an error or misinterpretation.\n",
      "  FutureWarning\n"
     ]
    },
    {
     "data": {
      "image/png": "[encoded data removed]",
      "text/plain": [
       "<Figure size 720x360 with 1 Axes>"
      ]
     },
     "metadata": {
      "needs_background": "light"
     },
     "output_type": "display_data"
    }
   ],
   "source": [
    "#********************************************************************************************************************************************************************************\n",
    "#Visualizing Target variable\n",
    "#********************************************************************************************************************************************************************************\n",
    "\n",
    "sns.factorplot('BadCredit', data=df3, aspect=2, kind='count');"
   ]
  },
  {
   "cell_type": "code",
   "execution_count": null,
   "metadata": {
    "colab": {
     "base_uri": "https://localhost:8080/"
    },
    "id": "FS-V3k0h8MKy",
    "outputId": "a9f0381c-0d7c-4a4a-8f0d-fadb1e5ce2af"
   },
   "outputs": [
    {
     "name": "stdout",
     "output_type": "stream",
     "text": [
      "UserID - 4800\n",
      "Sex - 2\n",
      "PreviousDefault - 2\n",
      "FirstName - 568\n",
      "LastName - 907\n",
      "NumberPets - 3\n",
      "PreviousAccounts - 7\n",
      "ResidenceDuration - 10\n",
      "Street - 4800\n",
      "LicensePlate - 4799\n",
      "Amount - 1641\n",
      "Married - 2\n",
      "Duration - 6\n",
      "City - 20\n",
      "Purpose - 8\n",
      "DateOfBirth - 3570\n"
     ]
    }
   ],
   "source": [
    "#********************************************************************************************************************************************************************************\n",
    "#Checking Feature size\n",
    "#********************************************************************************************************************************************************************************\n",
    "\n",
    "for i in X_train.columns:\n",
    "    print('{} - {}'.format(i,X_train[i].unique().shape[0]))"
   ]
  },
  {
   "cell_type": "code",
   "execution_count": null,
   "metadata": {
    "colab": {
     "base_uri": "https://localhost:8080/",
     "height": 912
    },
    "id": "NtKqJvqI9s-C",
    "outputId": "499c18c2-bfc2-4a63-a672-0c876547ebf5"
   },
   "outputs": [
    {
     "name": "stdout",
     "output_type": "stream",
     "text": [
      "Boolean series:\n",
      "False    4800\n",
      "dtype: int64\n",
      "\n",
      "\n",
      "DataFrame after removing all the instances of the duplicate rows:\n"
     ]
    },
    {
     "data": {
      "text/html": [
       "<div>\n",
       "<style scoped>\n",
       "    .dataframe tbody tr th:only-of-type {\n",
       "        vertical-align: middle;\n",
       "    }\n",
       "\n",
       "    .dataframe tbody tr th {\n",
       "        vertical-align: top;\n",
       "    }\n",
       "\n",
       "    .dataframe thead th {\n",
       "        text-align: right;\n",
       "    }\n",
       "</style>\n",
       "<table border=\"1\" class=\"dataframe\">\n",
       "  <thead>\n",
       "    <tr style=\"text-align: right;\">\n",
       "      <th></th>\n",
       "      <th>UserID</th>\n",
       "      <th>Sex</th>\n",
       "      <th>PreviousDefault</th>\n",
       "      <th>FirstName</th>\n",
       "      <th>LastName</th>\n",
       "      <th>NumberPets</th>\n",
       "      <th>PreviousAccounts</th>\n",
       "      <th>ResidenceDuration</th>\n",
       "      <th>Street</th>\n",
       "      <th>LicensePlate</th>\n",
       "      <th>Amount</th>\n",
       "      <th>Married</th>\n",
       "      <th>Duration</th>\n",
       "      <th>City</th>\n",
       "      <th>Purpose</th>\n",
       "      <th>DateOfBirth</th>\n",
       "    </tr>\n",
       "  </thead>\n",
       "  <tbody>\n",
       "    <tr>\n",
       "      <th>3897</th>\n",
       "      <td>236-22-6766</td>\n",
       "      <td>M</td>\n",
       "      <td>0</td>\n",
       "      <td>Jerry</td>\n",
       "      <td>Black</td>\n",
       "      <td>2</td>\n",
       "      <td>0</td>\n",
       "      <td>2</td>\n",
       "      <td>0466 Brown Wall</td>\n",
       "      <td>3-U8282</td>\n",
       "      <td>3329</td>\n",
       "      <td>0</td>\n",
       "      <td>12</td>\n",
       "      <td>New Roberttown</td>\n",
       "      <td>Household</td>\n",
       "      <td>1970-04-22</td>\n",
       "    </tr>\n",
       "    <tr>\n",
       "      <th>5628</th>\n",
       "      <td>766-20-5986</td>\n",
       "      <td>F</td>\n",
       "      <td>0</td>\n",
       "      <td>Julia</td>\n",
       "      <td>Jones</td>\n",
       "      <td>0</td>\n",
       "      <td>2</td>\n",
       "      <td>2</td>\n",
       "      <td>6095 Larson Causeway</td>\n",
       "      <td>LWO 912</td>\n",
       "      <td>2996</td>\n",
       "      <td>0</td>\n",
       "      <td>36</td>\n",
       "      <td>Ericmouth</td>\n",
       "      <td>Household</td>\n",
       "      <td>1964-06-19</td>\n",
       "    </tr>\n",
       "    <tr>\n",
       "      <th>1756</th>\n",
       "      <td>744-25-5747</td>\n",
       "      <td>F</td>\n",
       "      <td>0</td>\n",
       "      <td>Abigail</td>\n",
       "      <td>Estrada</td>\n",
       "      <td>2</td>\n",
       "      <td>0</td>\n",
       "      <td>3</td>\n",
       "      <td>293 Michael Divide</td>\n",
       "      <td>715 OQT</td>\n",
       "      <td>2470</td>\n",
       "      <td>0</td>\n",
       "      <td>24</td>\n",
       "      <td>East Jill</td>\n",
       "      <td>NewCar</td>\n",
       "      <td>1975-02-17</td>\n",
       "    </tr>\n",
       "    <tr>\n",
       "      <th>2346</th>\n",
       "      <td>463-78-3098</td>\n",
       "      <td>F</td>\n",
       "      <td>0</td>\n",
       "      <td>Jessica</td>\n",
       "      <td>Jones</td>\n",
       "      <td>2</td>\n",
       "      <td>1</td>\n",
       "      <td>2</td>\n",
       "      <td>02759 Williams Roads</td>\n",
       "      <td>869 SYK</td>\n",
       "      <td>3745</td>\n",
       "      <td>0</td>\n",
       "      <td>30</td>\n",
       "      <td>Lake Debra</td>\n",
       "      <td>UsedCar</td>\n",
       "      <td>1977-02-16</td>\n",
       "    </tr>\n",
       "    <tr>\n",
       "      <th>2996</th>\n",
       "      <td>414-44-6527</td>\n",
       "      <td>M</td>\n",
       "      <td>0</td>\n",
       "      <td>William</td>\n",
       "      <td>Shaffer</td>\n",
       "      <td>0</td>\n",
       "      <td>1</td>\n",
       "      <td>3</td>\n",
       "      <td>19797 Turner Rue</td>\n",
       "      <td>48-A601</td>\n",
       "      <td>3549</td>\n",
       "      <td>0</td>\n",
       "      <td>36</td>\n",
       "      <td>North Judithbury</td>\n",
       "      <td>Vacation</td>\n",
       "      <td>1976-07-27</td>\n",
       "    </tr>\n",
       "    <tr>\n",
       "      <th>...</th>\n",
       "      <td>...</td>\n",
       "      <td>...</td>\n",
       "      <td>...</td>\n",
       "      <td>...</td>\n",
       "      <td>...</td>\n",
       "      <td>...</td>\n",
       "      <td>...</td>\n",
       "      <td>...</td>\n",
       "      <td>...</td>\n",
       "      <td>...</td>\n",
       "      <td>...</td>\n",
       "      <td>...</td>\n",
       "      <td>...</td>\n",
       "      <td>...</td>\n",
       "      <td>...</td>\n",
       "      <td>...</td>\n",
       "    </tr>\n",
       "    <tr>\n",
       "      <th>3772</th>\n",
       "      <td>888-92-1021</td>\n",
       "      <td>F</td>\n",
       "      <td>0</td>\n",
       "      <td>Carly</td>\n",
       "      <td>Tanner</td>\n",
       "      <td>0</td>\n",
       "      <td>1</td>\n",
       "      <td>1</td>\n",
       "      <td>99179 Erin Stravenue</td>\n",
       "      <td>98G XY9</td>\n",
       "      <td>3607</td>\n",
       "      <td>1</td>\n",
       "      <td>24</td>\n",
       "      <td>Robinsonshire</td>\n",
       "      <td>NewCar</td>\n",
       "      <td>1973-01-04</td>\n",
       "    </tr>\n",
       "    <tr>\n",
       "      <th>5191</th>\n",
       "      <td>875-64-1301</td>\n",
       "      <td>F</td>\n",
       "      <td>0</td>\n",
       "      <td>Jasmine</td>\n",
       "      <td>Chambers</td>\n",
       "      <td>2</td>\n",
       "      <td>1</td>\n",
       "      <td>0</td>\n",
       "      <td>368 Jackson Pass Suite 887</td>\n",
       "      <td>430M</td>\n",
       "      <td>3186</td>\n",
       "      <td>0</td>\n",
       "      <td>30</td>\n",
       "      <td>North Judithbury</td>\n",
       "      <td>NewCar</td>\n",
       "      <td>1973-12-25</td>\n",
       "    </tr>\n",
       "    <tr>\n",
       "      <th>5226</th>\n",
       "      <td>584-74-0175</td>\n",
       "      <td>F</td>\n",
       "      <td>0</td>\n",
       "      <td>Danielle</td>\n",
       "      <td>Hendrix</td>\n",
       "      <td>2</td>\n",
       "      <td>1</td>\n",
       "      <td>3</td>\n",
       "      <td>898 Kayla Manor Apt. 879</td>\n",
       "      <td>293 MHY</td>\n",
       "      <td>2387</td>\n",
       "      <td>1</td>\n",
       "      <td>36</td>\n",
       "      <td>Lake Roberto</td>\n",
       "      <td>Business</td>\n",
       "      <td>1969-02-25</td>\n",
       "    </tr>\n",
       "    <tr>\n",
       "      <th>5390</th>\n",
       "      <td>507-44-5910</td>\n",
       "      <td>F</td>\n",
       "      <td>0</td>\n",
       "      <td>Dana</td>\n",
       "      <td>Taylor</td>\n",
       "      <td>1</td>\n",
       "      <td>1</td>\n",
       "      <td>3</td>\n",
       "      <td>7343 Kimberly Flat</td>\n",
       "      <td>4JIY 37</td>\n",
       "      <td>3620</td>\n",
       "      <td>0</td>\n",
       "      <td>12</td>\n",
       "      <td>Lake Debra</td>\n",
       "      <td>Other</td>\n",
       "      <td>1967-01-09</td>\n",
       "    </tr>\n",
       "    <tr>\n",
       "      <th>860</th>\n",
       "      <td>256-96-0929</td>\n",
       "      <td>F</td>\n",
       "      <td>0</td>\n",
       "      <td>Jessica</td>\n",
       "      <td>Gross</td>\n",
       "      <td>1</td>\n",
       "      <td>2</td>\n",
       "      <td>0</td>\n",
       "      <td>675 Samuel Meadow</td>\n",
       "      <td>YP 9955</td>\n",
       "      <td>4106</td>\n",
       "      <td>0</td>\n",
       "      <td>30</td>\n",
       "      <td>North Judithbury</td>\n",
       "      <td>NewCar</td>\n",
       "      <td>1988-10-16</td>\n",
       "    </tr>\n",
       "  </tbody>\n",
       "</table>\n",
       "<p>4800 rows × 16 columns</p>\n",
       "</div>"
      ],
      "text/plain": [
       "           UserID Sex  PreviousDefault  ...              City    Purpose  DateOfBirth\n",
       "3897  236-22-6766   M                0  ...    New Roberttown  Household   1970-04-22\n",
       "5628  766-20-5986   F                0  ...         Ericmouth  Household   1964-06-19\n",
       "1756  744-25-5747   F                0  ...         East Jill     NewCar   1975-02-17\n",
       "2346  463-78-3098   F                0  ...        Lake Debra    UsedCar   1977-02-16\n",
       "2996  414-44-6527   M                0  ...  North Judithbury   Vacation   1976-07-27\n",
       "...           ...  ..              ...  ...               ...        ...          ...\n",
       "3772  888-92-1021   F                0  ...     Robinsonshire     NewCar   1973-01-04\n",
       "5191  875-64-1301   F                0  ...  North Judithbury     NewCar   1973-12-25\n",
       "5226  584-74-0175   F                0  ...      Lake Roberto   Business   1969-02-25\n",
       "5390  507-44-5910   F                0  ...        Lake Debra      Other   1967-01-09\n",
       "860   256-96-0929   F                0  ...  North Judithbury     NewCar   1988-10-16\n",
       "\n",
       "[4800 rows x 16 columns]"
      ]
     },
     "execution_count": 43,
     "metadata": {},
     "output_type": "execute_result"
    }
   ],
   "source": [
    "#********************************************************************************************************************************************************************************\n",
    "#Checking for duplicate rows\n",
    "#********************************************************************************************************************************************************************************\n",
    "\n",
    "bool_series = X_train.duplicated(keep=False)\n",
    "print('Boolean series:')\n",
    "print(bool_series.value_counts())\n",
    "print('\\n')\n",
    "print('DataFrame after removing all the instances of the duplicate rows:')\n",
    "X_train[~bool_series]"
   ]
  },
  {
   "cell_type": "code",
   "execution_count": null,
   "metadata": {
    "colab": {
     "base_uri": "https://localhost:8080/"
    },
    "id": "63SxhPdai9H_",
    "outputId": "bfdfff7d-159c-41b5-d725-a070afc2a7a0"
   },
   "outputs": [
    {
     "data": {
      "text/plain": [
       "UserID               object\n",
       "Sex                  object\n",
       "PreviousDefault       int64\n",
       "FirstName            object\n",
       "LastName             object\n",
       "NumberPets            int64\n",
       "PreviousAccounts      int64\n",
       "ResidenceDuration     int64\n",
       "Street               object\n",
       "LicensePlate         object\n",
       "Amount                int64\n",
       "Married               int64\n",
       "Duration              int64\n",
       "City                 object\n",
       "Purpose              object\n",
       "DateOfBirth          object\n",
       "dtype: object"
      ]
     },
     "execution_count": 44,
     "metadata": {},
     "output_type": "execute_result"
    }
   ],
   "source": [
    "#********************************************************************************************************************************************************************************\n",
    "#Checking Feature data types\n",
    "#********************************************************************************************************************************************************************************\n",
    "\n",
    "X_train.dtypes"
   ]
  },
  {
   "cell_type": "code",
   "execution_count": null,
   "metadata": {
    "colab": {
     "base_uri": "https://localhost:8080/",
     "height": 566
    },
    "id": "_bivXnitCFSc",
    "outputId": "94aa9bbc-d897-4ff1-abc9-cefb89f47373"
   },
   "outputs": [
    {
     "data": {
      "text/plain": [
       "<matplotlib.axes._subplots.AxesSubplot at 0x7f20c2313290>"
      ]
     },
     "execution_count": 45,
     "metadata": {},
     "output_type": "execute_result"
    },
    {
     "data": {
      "image/png": "[encoded data removed]",
      "text/plain": [
       "<Figure size 792x648 with 2 Axes>"
      ]
     },
     "metadata": {},
     "output_type": "display_data"
    }
   ],
   "source": [
    "from string import ascii_letters\n",
    "#********************************************************************************************************************************************************************************\n",
    "# Plotting Correlation\n",
    "#********************************************************************************************************************************************************************************\n",
    "\n",
    "sns.set_theme(style=\"white\")\n",
    "\n",
    "# Generate a large random dataset\n",
    "rs = np.random.RandomState(80)\n",
    "d = pd.DataFrame(data=rs.normal(size=(100, 26)),\n",
    "                 columns=list(ascii_letters[26:]))\n",
    "\n",
    "# Compute the correlation matrix\n",
    "corr = X_train.corr()\n",
    "\n",
    "# Generate a mask for the upper triangle\n",
    "mask = np.triu(np.ones_like(corr, dtype=bool))\n",
    "\n",
    "# Set up the matplotlib figure\n",
    "f, ax = plt.subplots(figsize=(11, 9))\n",
    "\n",
    "# Generate a custom diverging colormap\n",
    "cmap = sns.diverging_palette(230, 20, as_cmap=True)\n",
    "\n",
    "# Draw the heatmap with the mask and correct aspect ratio\n",
    "sns.heatmap(corr, mask=mask, cmap=cmap, vmax=.3, center=0,\n",
    "            square=True, linewidths=.5, cbar_kws={\"shrink\": .5})"
   ]
  },
  {
   "cell_type": "code",
   "execution_count": null,
   "metadata": {
    "id": "mixFxajLF5v7"
   },
   "outputs": [],
   "source": [
    "#********************************************************************************************************************************************************************************\n",
    "#Dropping variables with high unique values\n",
    "#********************************************************************************************************************************************************************************\n",
    "temp = X_train.drop(labels=['UserID', 'Street', 'LicensePlate','FirstName','LastName'], axis=1)\n"
   ]
  },
  {
   "cell_type": "code",
   "execution_count": null,
   "metadata": {
    "colab": {
     "base_uri": "https://localhost:8080/"
    },
    "id": "T7EY_sX8pnmA",
    "outputId": "19675544-ec0b-4035-9038-ce94790285aa"
   },
   "outputs": [
    {
     "name": "stdout",
     "output_type": "stream",
     "text": [
      "UserID\n",
      "001-06-1660    1\n",
      "001-15-0532    1\n",
      "001-43-3197    1\n",
      "001-49-1846    1\n",
      "001-54-6440    1\n",
      "              ..\n",
      "898-85-3368    1\n",
      "899-04-0153    1\n",
      "899-39-3800    1\n",
      "899-69-3449    1\n",
      "899-87-9592    1\n",
      "Length: 4800, dtype: int64\n",
      "Sex\n",
      "F    3338\n",
      "M    1462\n",
      "dtype: int64\n",
      "PreviousDefault\n",
      "0    4703\n",
      "1      97\n",
      "dtype: int64\n",
      "FirstName\n",
      "Aaron       9\n",
      "Abigail    10\n",
      "Adam       14\n",
      "Adrian      1\n",
      "Adriana     1\n",
      "           ..\n",
      "Yesenia     1\n",
      "Yolanda     2\n",
      "Yvette      1\n",
      "Yvonne      5\n",
      "Zachary     2\n",
      "Length: 568, dtype: int64\n",
      "LastName\n",
      "Abbott       3\n",
      "Acevedo      2\n",
      "Acosta       1\n",
      "Adams        8\n",
      "Adkins       3\n",
      "            ..\n",
      "Zamora       2\n",
      "Zavala       1\n",
      "Zhang        2\n",
      "Zimmerman    4\n",
      "Zuniga       4\n",
      "Length: 907, dtype: int64\n",
      "NumberPets\n",
      "0    1552\n",
      "1    1596\n",
      "2    1652\n",
      "dtype: int64\n",
      "PreviousAccounts\n",
      "0    1741\n",
      "1    1822\n",
      "2     837\n",
      "3     301\n",
      "4      76\n",
      "5      16\n",
      "6       7\n",
      "dtype: int64\n",
      "ResidenceDuration\n",
      "0     641\n",
      "1    1317\n",
      "2    1287\n",
      "3     886\n",
      "4     441\n",
      "5     155\n",
      "6      49\n",
      "7      19\n",
      "8       4\n",
      "9       1\n",
      "dtype: int64\n",
      "Street\n",
      "000 Frazier Expressway              1\n",
      "000 Sabrina Skyway Apt. 073         1\n",
      "000 Solomon Ports Suite 381         1\n",
      "00000 Marcus Throughway Apt. 137    1\n",
      "00001 Sara Light                    1\n",
      "                                   ..\n",
      "999 Steven Extension                1\n",
      "9991 Pitts Ville                    1\n",
      "9994 Clark Alley Apt. 319           1\n",
      "99966 Jeffery Rapid                 1\n",
      "99975 Hobbs Circle Suite 185        1\n",
      "Length: 4800, dtype: int64\n",
      "LicensePlate\n",
      "0-00679     1\n",
      "0-0490N     1\n",
      "0-2314U     1\n",
      "0-3214F     1\n",
      "0-34344     1\n",
      "           ..\n",
      "ZZI 873     1\n",
      "ZZP 568     1\n",
      "ZZR 638     1\n",
      "ZZR-0640    1\n",
      "ZZZ-4034    1\n",
      "Length: 4799, dtype: int64\n",
      "Amount\n",
      "2158    1\n",
      "2262    1\n",
      "2266    1\n",
      "2270    1\n",
      "2319    1\n",
      "       ..\n",
      "4821    1\n",
      "4825    1\n",
      "4935    1\n",
      "4964    1\n",
      "4982    1\n",
      "Length: 1641, dtype: int64\n",
      "Married\n",
      "0    2374\n",
      "1    2426\n",
      "dtype: int64\n",
      "Duration\n",
      "6      420\n",
      "12     507\n",
      "18     710\n",
      "24     977\n",
      "30    1165\n",
      "36    1021\n",
      "dtype: int64\n",
      "City\n",
      "Cassandraton         130\n",
      "East Jessetown       341\n",
      "East Jill            652\n",
      "Ericmouth            155\n",
      "Herrerafurt           96\n",
      "Jacquelineland        56\n",
      "Lake Chad             97\n",
      "Lake Debra           278\n",
      "Lake Roberto         164\n",
      "Lisatown             169\n",
      "New Jessica           67\n",
      "New Kellystad         99\n",
      "New Roberttown       467\n",
      "North Judithbury    1319\n",
      "North Noahstad       139\n",
      "Port Jesseville       70\n",
      "Port Keith            91\n",
      "Ramirezstad           94\n",
      "Robinsonshire        252\n",
      "West Michael          64\n",
      "dtype: int64\n",
      "Purpose\n",
      "Business       69\n",
      "Education     258\n",
      "Household     478\n",
      "NewCar       1455\n",
      "Other         740\n",
      "Repair        348\n",
      "UsedCar      1102\n",
      "Vacation      350\n",
      "dtype: int64\n",
      "DateOfBirth\n",
      "1955-08-20    1\n",
      "1955-11-11    1\n",
      "1955-11-29    1\n",
      "1956-03-09    1\n",
      "1956-05-06    1\n",
      "             ..\n",
      "1992-07-14    1\n",
      "1993-04-28    1\n",
      "1993-08-23    1\n",
      "1993-09-12    1\n",
      "1994-07-28    1\n",
      "Length: 3570, dtype: int64\n"
     ]
    }
   ],
   "source": [
    "#********************************************************************************************************************************************************************************\n",
    "#Checking for high cardinality features\n",
    "#********************************************************************************************************************************************************************************\n",
    "\n",
    "feat = [x for x in X_train.columns]\n",
    "for col in feat:\n",
    "  print(X_train.groupby([col]).size())"
   ]
  },
  {
   "cell_type": "code",
   "execution_count": null,
   "metadata": {
    "colab": {
     "base_uri": "https://localhost:8080/",
     "height": 411
    },
    "id": "gEc7HMRxpu0Q",
    "outputId": "378226ac-e793-421c-ef66-c7d7e5c67f9a"
   },
   "outputs": [
    {
     "name": "stderr",
     "output_type": "stream",
     "text": [
      "/usr/local/lib/python3.7/dist-packages/seaborn/_decorators.py:43: FutureWarning: Pass the following variable as a keyword arg: x. From version 0.12, the only valid positional argument will be `data`, and passing other arguments without an explicit keyword will result in an error or misinterpretation.\n",
      "  FutureWarning\n"
     ]
    },
    {
     "data": {
      "text/plain": [
       "<matplotlib.axes._subplots.AxesSubplot at 0x7f20c2258cd0>"
      ]
     },
     "execution_count": 48,
     "metadata": {},
     "output_type": "execute_result"
    },
    {
     "data": {
      "image/png": "[encoded data removed]",
      "text/plain": [
       "<Figure size 576x360 with 1 Axes>"
      ]
     },
     "metadata": {},
     "output_type": "display_data"
    }
   ],
   "source": [
    "#********************************************************************************************************************************************************************************\n",
    "#Plotting to check outliers in Amount feature\n",
    "#********************************************************************************************************************************************************************************\n",
    "sns.boxplot(X_train.Amount)"
   ]
  },
  {
   "cell_type": "code",
   "execution_count": null,
   "metadata": {
    "id": "5QjMcVhUp1RJ"
   },
   "outputs": [],
   "source": [
    "#********************************************************************************************************************************************************************************\n",
    "#Converting all objects to category dtype\n",
    "#********************************************************************************************************************************************************************************\n",
    "\n",
    "for x in temp.columns:\n",
    "  if temp[x].dtype == 'object':\n",
    "    temp[x]= temp[x].astype('category')\n"
   ]
  },
  {
   "cell_type": "code",
   "execution_count": null,
   "metadata": {
    "colab": {
     "base_uri": "https://localhost:8080/"
    },
    "id": "SwJP6qpMq00h",
    "outputId": "a9c04f2b-d640-46af-e66d-2ebcf5f38b38"
   },
   "outputs": [
    {
     "name": "stdout",
     "output_type": "stream",
     "text": [
      "Collecting category_encoders\n",
      "  Downloading category_encoders-2.3.0-py2.py3-none-any.whl (82 kB)\n",
      "\u001b[?25l\r",
      "\u001b[K     |████                            | 10 kB 23.1 MB/s eta 0:00:01\r",
      "\u001b[K     |████████                        | 20 kB 28.9 MB/s eta 0:00:01\r",
      "\u001b[K     |████████████                    | 30 kB 20.5 MB/s eta 0:00:01\r",
      "\u001b[K     |████████████████                | 40 kB 12.9 MB/s eta 0:00:01\r",
      "\u001b[K     |████████████████████            | 51 kB 6.1 MB/s eta 0:00:01\r",
      "\u001b[K     |████████████████████████        | 61 kB 5.6 MB/s eta 0:00:01\r",
      "\u001b[K     |████████████████████████████    | 71 kB 5.4 MB/s eta 0:00:01\r",
      "\u001b[K     |███████████████████████████████▉| 81 kB 6.0 MB/s eta 0:00:01\r",
      "\u001b[K     |████████████████████████████████| 82 kB 353 kB/s \n",
      "\u001b[?25hRequirement already satisfied: pandas>=0.21.1 in /usr/local/lib/python3.7/dist-packages (from category_encoders) (1.1.5)\n",
      "Requirement already satisfied: patsy>=0.5.1 in /usr/local/lib/python3.7/dist-packages (from category_encoders) (0.5.2)\n",
      "Requirement already satisfied: statsmodels>=0.9.0 in /usr/local/lib/python3.7/dist-packages (from category_encoders) (0.10.2)\n",
      "Requirement already satisfied: scikit-learn>=0.20.0 in /usr/local/lib/python3.7/dist-packages (from category_encoders) (1.0.1)\n",
      "Requirement already satisfied: scipy>=1.0.0 in /usr/local/lib/python3.7/dist-packages (from category_encoders) (1.4.1)\n",
      "Requirement already satisfied: numpy>=1.14.0 in /usr/local/lib/python3.7/dist-packages (from category_encoders) (1.19.5)\n",
      "Requirement already satisfied: python-dateutil>=2.7.3 in /usr/local/lib/python3.7/dist-packages (from pandas>=0.21.1->category_encoders) (2.8.2)\n",
      "Requirement already satisfied: pytz>=2017.2 in /usr/local/lib/python3.7/dist-packages (from pandas>=0.21.1->category_encoders) (2018.9)\n",
      "Requirement already satisfied: six in /usr/local/lib/python3.7/dist-packages (from patsy>=0.5.1->category_encoders) (1.15.0)\n",
      "Requirement already satisfied: joblib>=0.11 in /usr/local/lib/python3.7/dist-packages (from scikit-learn>=0.20.0->category_encoders) (1.1.0)\n",
      "Requirement already satisfied: threadpoolctl>=2.0.0 in /usr/local/lib/python3.7/dist-packages (from scikit-learn>=0.20.0->category_encoders) (3.0.0)\n",
      "Installing collected packages: category-encoders\n",
      "Successfully installed category-encoders-2.3.0\n"
     ]
    },
    {
     "name": "stderr",
     "output_type": "stream",
     "text": [
      "/usr/local/lib/python3.7/dist-packages/statsmodels/tools/_testing.py:19: FutureWarning: pandas.util.testing is deprecated. Use the functions in the public API at pandas.testing instead.\n",
      "  import pandas.util.testing as tm\n"
     ]
    }
   ],
   "source": [
    "#********************************************************************************************************************************************************************************\n",
    "#Applying target encoding to convert category features to numeric\n",
    "#********************************************************************************************************************************************************************************\n",
    "\n",
    "y_b_train = pd.to_numeric(y_train)\n",
    "!pip install category_encoders\n",
    "from category_encoders import TargetEncoder\n",
    "\n",
    "te = TargetEncoder()\n",
    "\n",
    "def target_encoder(col, target):\n",
    "    for i in range(len(temp.columns)):\n",
    "        col.iloc[:,i] = te.fit_transform(col, target)\n",
    "    return col\n",
    "\n",
    "df_te_train = target_encoder(temp, y_train)"
   ]
  },
  {
   "cell_type": "markdown",
   "metadata": {
    "id": "1h2ejgiY2rrC"
   },
   "source": []
  },
  {
   "cell_type": "markdown",
   "metadata": {
    "id": "sdiKKblCo53S"
   },
   "source": [
    "## 3.1: Baseline model"
   ]
  },
  {
   "cell_type": "code",
   "execution_count": null,
   "metadata": {
    "id": "VEiUUkVmr8Tr"
   },
   "outputs": [],
   "source": [
    "#********************************************************************************************************************************************************************************\n",
    "# Building Baseline RFM model \n",
    "#********************************************************************************************************************************************************************************\n",
    "classifiers = {\"RandomForest\" : RandomForestClassifier()}"
   ]
  },
  {
   "cell_type": "code",
   "execution_count": null,
   "metadata": {
    "colab": {
     "base_uri": "https://localhost:8080/"
    },
    "id": "p7dhZLPhr2-O",
    "outputId": "8c217538-6a7c-420b-8e98-1861beaad64f"
   },
   "outputs": [
    {
     "data": {
      "text/plain": [
       "RandomForestClassifier()"
      ]
     },
     "execution_count": 52,
     "metadata": {},
     "output_type": "execute_result"
    },
    {
     "name": "stdout",
     "output_type": "stream",
     "text": [
      "[0.86]\n"
     ]
    }
   ],
   "source": [
    "#********************************************************************************************************************************************************************************\n",
    "# Calculating CV score\n",
    "#********************************************************************************************************************************************************************************\n",
    "\n",
    "train_cross_scores = []\n",
    "test_cross_scores = []\n",
    "\n",
    "for key, classifier in classifiers.items():\n",
    "    classifier.fit(df_te_train, y_train)\n",
    "    train_score = cross_val_score(classifier, df_te_train, y_train, cv=5,scoring='f1_weighted')\n",
    "    train_cross_scores.append(round(train_score.mean(),2))\n",
    "  \n",
    "    \n",
    "print(train_cross_scores)"
   ]
  },
  {
   "cell_type": "markdown",
   "metadata": {
    "id": "2jBiMq545JUd"
   },
   "source": [
    "Our Baseline model F1 Weighted Score is 0.86"
   ]
  },
  {
   "cell_type": "markdown",
   "metadata": {
    "id": "ugyTS51Ko5vz"
   },
   "source": [
    "## 3.2: Feature engineering"
   ]
  },
  {
   "cell_type": "code",
   "execution_count": null,
   "metadata": {
    "colab": {
     "base_uri": "https://localhost:8080/"
    },
    "id": "HJkvmOxn27i2",
    "outputId": "95236528-a490-4b3d-d093-6c331f5e1648"
   },
   "outputs": [
    {
     "data": {
      "text/plain": [
       "UserID               object\n",
       "Sex                  object\n",
       "PreviousDefault       int64\n",
       "FirstName            object\n",
       "LastName             object\n",
       "NumberPets            int64\n",
       "PreviousAccounts      int64\n",
       "ResidenceDuration     int64\n",
       "Street               object\n",
       "LicensePlate         object\n",
       "Amount                int64\n",
       "Married               int64\n",
       "Duration              int64\n",
       "City                 object\n",
       "Purpose              object\n",
       "DateOfBirth           int64\n",
       "year                  int64\n",
       "month                 int64\n",
       "day                   int64\n",
       "Age                   int64\n",
       "dtype: object"
      ]
     },
     "execution_count": 53,
     "metadata": {},
     "output_type": "execute_result"
    }
   ],
   "source": [
    "#********************************************************************************************************************************************************************************\n",
    "#Feature engineering \n",
    "#********************************************************************************************************************************************************************************\n",
    "#Split the date of birth feature to 3 seperate features\n",
    "from datetime import datetime\n",
    "X_train.DateOfBirth = pd.to_datetime(X_train.DateOfBirth, format='%Y-%m-%d')\n",
    "X_train['year']  = X_train.DateOfBirth.dt.year\n",
    "X_train['month'] = X_train.DateOfBirth.dt.month\n",
    "X_train['day'] = X_train.DateOfBirth.dt.day\n",
    "\n",
    "#Create a function for Age\n",
    "def Age(data):\n",
    "  now = datetime.now().year\n",
    "  data['Age'] = now- data['year']\n",
    "  data['Age']=data['Age'].replace([2021],0)\n",
    "  return data\n",
    "\n",
    "#Encode the Age feature \n",
    "X_train= Age(X_train)\n",
    "X_train['DateOfBirth']=X_train['DateOfBirth'].apply(lambda x: x.toordinal())\n",
    "\n",
    "X_train.dtypes"
   ]
  },
  {
   "cell_type": "code",
   "execution_count": null,
   "metadata": {
    "colab": {
     "base_uri": "https://localhost:8080/",
     "height": 411
    },
    "id": "ZSVXp8ok9Oqy",
    "outputId": "c2aa038a-c091-444c-8772-347646b2baa6"
   },
   "outputs": [
    {
     "name": "stderr",
     "output_type": "stream",
     "text": [
      "/usr/local/lib/python3.7/dist-packages/seaborn/_decorators.py:43: FutureWarning: Pass the following variable as a keyword arg: x. From version 0.12, the only valid positional argument will be `data`, and passing other arguments without an explicit keyword will result in an error or misinterpretation.\n",
      "  FutureWarning\n"
     ]
    },
    {
     "data": {
      "text/plain": [
       "<matplotlib.axes._subplots.AxesSubplot at 0x7f20b66beb90>"
      ]
     },
     "execution_count": 54,
     "metadata": {},
     "output_type": "execute_result"
    },
    {
     "data": {
      "image/png": "[encoded data removed]",
      "text/plain": [
       "<Figure size 576x360 with 1 Axes>"
      ]
     },
     "metadata": {},
     "output_type": "display_data"
    }
   ],
   "source": [
    "#********************************************************************************************************************************************************************************\n",
    "# Visualizing Age feature to identify outliers\n",
    "#********************************************************************************************************************************************************************************\n",
    "\n",
    "sns.boxplot(X_train.Age)"
   ]
  },
  {
   "cell_type": "code",
   "execution_count": null,
   "metadata": {
    "id": "ETIzzbSGuaeB"
   },
   "outputs": [],
   "source": [
    "#********************************************************************************************************************************************************************************\n",
    "# Merging target and label to handle outliers\n",
    "#********************************************************************************************************************************************************************************\n",
    "\n",
    "train_df = pd.concat([X_train,y_train],axis=1)\n"
   ]
  },
  {
   "cell_type": "code",
   "execution_count": null,
   "metadata": {
    "id": "RS8Ps0ebudxE"
   },
   "outputs": [],
   "source": [
    "def remove_outlier(col):\n",
    "    q25 = col.quantile(0.25)\n",
    "    q75 = col.quantile(0.75)\n",
    "    iqr = q75 - q25\n",
    "    cutoff = iqr*1.5\n",
    "    lower = q25 - cutoff\n",
    "    upper = q75 + cutoff\n",
    "    return lower, upper\n",
    "\n",
    "lower, upper = remove_outlier(train_df.Amount)\n",
    "train_df = train_df.loc[(train_df.Amount > lower) & (train_df.Amount < upper)]\n",
    "lower1, upper1 = remove_outlier(train_df.Age)\n",
    "train_df = train_df.loc[(train_df.Age > lower1) & (train_df.Age < upper1)]"
   ]
  },
  {
   "cell_type": "code",
   "execution_count": null,
   "metadata": {
    "colab": {
     "base_uri": "https://localhost:8080/",
     "height": 411
    },
    "id": "a77J4WPNuztU",
    "outputId": "0b14bb05-5001-43c1-dafb-700235ec638f"
   },
   "outputs": [
    {
     "name": "stderr",
     "output_type": "stream",
     "text": [
      "/usr/local/lib/python3.7/dist-packages/seaborn/_decorators.py:43: FutureWarning: Pass the following variable as a keyword arg: x. From version 0.12, the only valid positional argument will be `data`, and passing other arguments without an explicit keyword will result in an error or misinterpretation.\n",
      "  FutureWarning\n"
     ]
    },
    {
     "data": {
      "text/plain": [
       "<matplotlib.axes._subplots.AxesSubplot at 0x7f20b665d690>"
      ]
     },
     "execution_count": 57,
     "metadata": {},
     "output_type": "execute_result"
    },
    {
     "data": {
      "image/png": "[encoded data removed]",
      "text/plain": [
       "<Figure size 576x360 with 1 Axes>"
      ]
     },
     "metadata": {},
     "output_type": "display_data"
    }
   ],
   "source": [
    "#********************************************************************************************************************************************************************************\n",
    "#Visualizing Age feature to check if outliers are removed\n",
    "#********************************************************************************************************************************************************************************\n",
    "\n",
    "sns.boxplot(train_df.Age)"
   ]
  },
  {
   "cell_type": "code",
   "execution_count": null,
   "metadata": {
    "colab": {
     "base_uri": "https://localhost:8080/",
     "height": 411
    },
    "id": "qh_mJ-UXu1vP",
    "outputId": "b4c7b4ec-b237-482e-aae0-a7e65b376111"
   },
   "outputs": [
    {
     "name": "stderr",
     "output_type": "stream",
     "text": [
      "/usr/local/lib/python3.7/dist-packages/seaborn/_decorators.py:43: FutureWarning: Pass the following variable as a keyword arg: x. From version 0.12, the only valid positional argument will be `data`, and passing other arguments without an explicit keyword will result in an error or misinterpretation.\n",
      "  FutureWarning\n"
     ]
    },
    {
     "data": {
      "text/plain": [
       "<matplotlib.axes._subplots.AxesSubplot at 0x7f20b65b6750>"
      ]
     },
     "execution_count": 58,
     "metadata": {},
     "output_type": "execute_result"
    },
    {
     "data": {
      "image/png": "[encoded data removed]",
      "text/plain": [
       "<Figure size 576x360 with 1 Axes>"
      ]
     },
     "metadata": {},
     "output_type": "display_data"
    }
   ],
   "source": [
    "#********************************************************************************************************************************************************************************\n",
    "#Visualizing Amount feature to check if outliers are removed\n",
    "#********************************************************************************************************************************************************************************\n",
    "sns.boxplot(train_df.Amount)\n"
   ]
  },
  {
   "cell_type": "code",
   "execution_count": null,
   "metadata": {
    "colab": {
     "base_uri": "https://localhost:8080/",
     "height": 851
    },
    "id": "WFGSwU_6vcec",
    "outputId": "72130727-5913-46b2-ed17-6da3ce13a193"
   },
   "outputs": [
    {
     "data": {
      "text/plain": [
       "(<Figure size 1440x1080 with 1 Axes>,\n",
       " <matplotlib.axes._subplots.AxesSubplot at 0x7f20b6594590>)"
      ]
     },
     "execution_count": 59,
     "metadata": {},
     "output_type": "execute_result"
    },
    {
     "data": {
      "text/plain": [
       "<matplotlib.axes._subplots.AxesSubplot at 0x7f20b6558210>"
      ]
     },
     "execution_count": 59,
     "metadata": {},
     "output_type": "execute_result"
    },
    {
     "data": {
      "text/plain": [
       "<matplotlib.axes._subplots.AxesSubplot at 0x7f20b6558210>"
      ]
     },
     "execution_count": 59,
     "metadata": {},
     "output_type": "execute_result"
    },
    {
     "data": {
      "text/plain": [
       "Text(0.5, 1.0, 'UserID')"
      ]
     },
     "execution_count": 59,
     "metadata": {},
     "output_type": "execute_result"
    },
    {
     "data": {
      "text/plain": [
       "<matplotlib.axes._subplots.AxesSubplot at 0x7f20b64f2a10>"
      ]
     },
     "execution_count": 59,
     "metadata": {},
     "output_type": "execute_result"
    },
    {
     "data": {
      "text/plain": [
       "<matplotlib.axes._subplots.AxesSubplot at 0x7f20b64f2a10>"
      ]
     },
     "execution_count": 59,
     "metadata": {},
     "output_type": "execute_result"
    },
    {
     "data": {
      "text/plain": [
       "Text(0.5, 1.0, 'Sex')"
      ]
     },
     "execution_count": 59,
     "metadata": {},
     "output_type": "execute_result"
    },
    {
     "data": {
      "text/plain": [
       "<matplotlib.axes._subplots.AxesSubplot at 0x7f20b653e750>"
      ]
     },
     "execution_count": 59,
     "metadata": {},
     "output_type": "execute_result"
    },
    {
     "data": {
      "text/plain": [
       "<matplotlib.axes._subplots.AxesSubplot at 0x7f20b653e750>"
      ]
     },
     "execution_count": 59,
     "metadata": {},
     "output_type": "execute_result"
    },
    {
     "data": {
      "text/plain": [
       "Text(0.5, 1.0, 'PreviousDefault')"
      ]
     },
     "execution_count": 59,
     "metadata": {},
     "output_type": "execute_result"
    },
    {
     "data": {
      "text/plain": [
       "<matplotlib.axes._subplots.AxesSubplot at 0x7f20b63cc290>"
      ]
     },
     "execution_count": 59,
     "metadata": {},
     "output_type": "execute_result"
    },
    {
     "data": {
      "text/plain": [
       "<matplotlib.axes._subplots.AxesSubplot at 0x7f20b63cc290>"
      ]
     },
     "execution_count": 59,
     "metadata": {},
     "output_type": "execute_result"
    },
    {
     "data": {
      "text/plain": [
       "Text(0.5, 1.0, 'FirstName')"
      ]
     },
     "execution_count": 59,
     "metadata": {},
     "output_type": "execute_result"
    },
    {
     "data": {
      "text/plain": [
       "<matplotlib.axes._subplots.AxesSubplot at 0x7f20b63375d0>"
      ]
     },
     "execution_count": 59,
     "metadata": {},
     "output_type": "execute_result"
    },
    {
     "data": {
      "text/plain": [
       "<matplotlib.axes._subplots.AxesSubplot at 0x7f20b63375d0>"
      ]
     },
     "execution_count": 59,
     "metadata": {},
     "output_type": "execute_result"
    },
    {
     "data": {
      "text/plain": [
       "Text(0.5, 1.0, 'LastName')"
      ]
     },
     "execution_count": 59,
     "metadata": {},
     "output_type": "execute_result"
    },
    {
     "data": {
      "text/plain": [
       "<matplotlib.axes._subplots.AxesSubplot at 0x7f20b660c090>"
      ]
     },
     "execution_count": 59,
     "metadata": {},
     "output_type": "execute_result"
    },
    {
     "data": {
      "text/plain": [
       "<matplotlib.axes._subplots.AxesSubplot at 0x7f20b660c090>"
      ]
     },
     "execution_count": 59,
     "metadata": {},
     "output_type": "execute_result"
    },
    {
     "data": {
      "text/plain": [
       "Text(0.5, 1.0, 'NumberPets')"
      ]
     },
     "execution_count": 59,
     "metadata": {},
     "output_type": "execute_result"
    },
    {
     "data": {
      "text/plain": [
       "<matplotlib.axes._subplots.AxesSubplot at 0x7f20b65aa290>"
      ]
     },
     "execution_count": 59,
     "metadata": {},
     "output_type": "execute_result"
    },
    {
     "data": {
      "text/plain": [
       "<matplotlib.axes._subplots.AxesSubplot at 0x7f20b65aa290>"
      ]
     },
     "execution_count": 59,
     "metadata": {},
     "output_type": "execute_result"
    },
    {
     "data": {
      "text/plain": [
       "Text(0.5, 1.0, 'PreviousAccounts')"
      ]
     },
     "execution_count": 59,
     "metadata": {},
     "output_type": "execute_result"
    },
    {
     "data": {
      "text/plain": [
       "<matplotlib.axes._subplots.AxesSubplot at 0x7f20b629f990>"
      ]
     },
     "execution_count": 59,
     "metadata": {},
     "output_type": "execute_result"
    },
    {
     "data": {
      "text/plain": [
       "<matplotlib.axes._subplots.AxesSubplot at 0x7f20b629f990>"
      ]
     },
     "execution_count": 59,
     "metadata": {},
     "output_type": "execute_result"
    },
    {
     "data": {
      "text/plain": [
       "Text(0.5, 1.0, 'ResidenceDuration')"
      ]
     },
     "execution_count": 59,
     "metadata": {},
     "output_type": "execute_result"
    },
    {
     "data": {
      "text/plain": [
       "<matplotlib.axes._subplots.AxesSubplot at 0x7f20b6202d50>"
      ]
     },
     "execution_count": 59,
     "metadata": {},
     "output_type": "execute_result"
    },
    {
     "data": {
      "text/plain": [
       "<matplotlib.axes._subplots.AxesSubplot at 0x7f20b6202d50>"
      ]
     },
     "execution_count": 59,
     "metadata": {},
     "output_type": "execute_result"
    },
    {
     "data": {
      "text/plain": [
       "Text(0.5, 1.0, 'Street')"
      ]
     },
     "execution_count": 59,
     "metadata": {},
     "output_type": "execute_result"
    },
    {
     "data": {
      "text/plain": [
       "<matplotlib.axes._subplots.AxesSubplot at 0x7f20b621ae50>"
      ]
     },
     "execution_count": 59,
     "metadata": {},
     "output_type": "execute_result"
    },
    {
     "data": {
      "text/plain": [
       "<matplotlib.axes._subplots.AxesSubplot at 0x7f20b621ae50>"
      ]
     },
     "execution_count": 59,
     "metadata": {},
     "output_type": "execute_result"
    },
    {
     "data": {
      "text/plain": [
       "Text(0.5, 1.0, 'LicensePlate')"
      ]
     },
     "execution_count": 59,
     "metadata": {},
     "output_type": "execute_result"
    },
    {
     "data": {
      "text/plain": [
       "<matplotlib.axes._subplots.AxesSubplot at 0x7f20b6063510>"
      ]
     },
     "execution_count": 59,
     "metadata": {},
     "output_type": "execute_result"
    },
    {
     "data": {
      "text/plain": [
       "<matplotlib.axes._subplots.AxesSubplot at 0x7f20b6063510>"
      ]
     },
     "execution_count": 59,
     "metadata": {},
     "output_type": "execute_result"
    },
    {
     "data": {
      "text/plain": [
       "Text(0.5, 1.0, 'Amount')"
      ]
     },
     "execution_count": 59,
     "metadata": {},
     "output_type": "execute_result"
    },
    {
     "data": {
      "text/plain": [
       "<matplotlib.axes._subplots.AxesSubplot at 0x7f20b6008a50>"
      ]
     },
     "execution_count": 59,
     "metadata": {},
     "output_type": "execute_result"
    },
    {
     "data": {
      "text/plain": [
       "<matplotlib.axes._subplots.AxesSubplot at 0x7f20b6008a50>"
      ]
     },
     "execution_count": 59,
     "metadata": {},
     "output_type": "execute_result"
    },
    {
     "data": {
      "text/plain": [
       "Text(0.5, 1.0, 'Married')"
      ]
     },
     "execution_count": 59,
     "metadata": {},
     "output_type": "execute_result"
    },
    {
     "data": {
      "text/plain": [
       "<matplotlib.axes._subplots.AxesSubplot at 0x7f20b6022b50>"
      ]
     },
     "execution_count": 59,
     "metadata": {},
     "output_type": "execute_result"
    },
    {
     "data": {
      "text/plain": [
       "<matplotlib.axes._subplots.AxesSubplot at 0x7f20b6022b50>"
      ]
     },
     "execution_count": 59,
     "metadata": {},
     "output_type": "execute_result"
    },
    {
     "data": {
      "text/plain": [
       "Text(0.5, 1.0, 'Duration')"
      ]
     },
     "execution_count": 59,
     "metadata": {},
     "output_type": "execute_result"
    },
    {
     "data": {
      "text/plain": [
       "<matplotlib.axes._subplots.AxesSubplot at 0x7f20b5eacf10>"
      ]
     },
     "execution_count": 59,
     "metadata": {},
     "output_type": "execute_result"
    },
    {
     "data": {
      "text/plain": [
       "<matplotlib.axes._subplots.AxesSubplot at 0x7f20b5eacf10>"
      ]
     },
     "execution_count": 59,
     "metadata": {},
     "output_type": "execute_result"
    },
    {
     "data": {
      "text/plain": [
       "Text(0.5, 1.0, 'City')"
      ]
     },
     "execution_count": 59,
     "metadata": {},
     "output_type": "execute_result"
    },
    {
     "data": {
      "image/png": "[encoded data removed]",
      "text/plain": [
       "<Figure size 1440x1080 with 14 Axes>"
      ]
     },
     "metadata": {},
     "output_type": "display_data"
    }
   ],
   "source": [
    "#********************************************************************************************************************************************************************************\n",
    "#More plots to understand about the feature distributions\n",
    "#********************************************************************************************************************************************************************************\n",
    "\n",
    "col = train_df.columns[:14]\n",
    "plt.subplots(figsize = (20, 15))\n",
    "length = len(col)\n",
    "\n",
    "for i, j in itertools.zip_longest(col, range(length)):\n",
    "    plt.subplot((length/2), 3, j + 1)\n",
    "    plt.subplots_adjust(wspace = 0.1,hspace = 0.5)\n",
    "    train_df[i].hist(bins = 20)\n",
    "    plt.title(i)\n",
    "plt.show()"
   ]
  },
  {
   "cell_type": "code",
   "execution_count": null,
   "metadata": {
    "id": "LPbEA6uovjed"
   },
   "outputs": [],
   "source": [
    "#********************************************************************************************************************************************************************************\n",
    "#More feature engineering\n",
    "#********************************************************************************************************************************************************************************\n",
    "\n",
    "train_df['age_binned'] = pd.qcut(train_df.Age, q=[0, .25, .50, .75, 1])\n",
    "train_df['amt_binned'] = pd.qcut(train_df.Amount, q=[0, .25, .50, .75, 1])\n",
    "train_df['year_binned'] = pd.qcut(train_df.year, q=[0, .25, .50, .75, 1])\n",
    "train_df['day_binned'] = pd.qcut(train_df.day, q=[0, .25, .50, .75, 1])\n",
    "train_df['month_binned'] = pd.qcut(train_df.month, q=[0, .25, .50, .75, 1])\n"
   ]
  },
  {
   "cell_type": "code",
   "execution_count": null,
   "metadata": {
    "id": "Y8I1zkfwnw-T"
   },
   "outputs": [],
   "source": [
    "#********************************************************************************************************************************************************************************\n",
    "#Dropping the original feaures causing duplication\n",
    "#********************************************************************************************************************************************************************************\n",
    "train_df.drop(columns=['Age', 'Amount', 'year','day','month'], inplace=True)"
   ]
  },
  {
   "cell_type": "code",
   "execution_count": null,
   "metadata": {
    "id": "pWTMa4iCvpAI"
   },
   "outputs": [],
   "source": [
    "#********************************************************************************************************************************************************************************\n",
    "#Label Encoding for the created features\n",
    "#********************************************************************************************************************************************************************************\n",
    "le=LabelEncoder()\n",
    "train_df['Age']= le.fit_transform(train_df['age_binned'])\n",
    "train_df['amount']= le.fit_transform(train_df['amt_binned'])\n",
    "train_df['year']= le.fit_transform(train_df['year_binned'])\n",
    "train_df['day']= le.fit_transform(train_df['day_binned'])\n",
    "train_df['month']= le.fit_transform(train_df['month_binned'])"
   ]
  },
  {
   "cell_type": "code",
   "execution_count": null,
   "metadata": {
    "id": "0ca7EOpZv6Qz"
   },
   "outputs": [],
   "source": [
    "#********************************************************************************************************************************************************************************\n",
    "#Dropping the duplicate columns\n",
    "#********************************************************************************************************************************************************************************\n",
    "train_df.drop(columns=['age_binned','amt_binned','year_binned','day_binned','month_binned'],inplace=True)"
   ]
  },
  {
   "cell_type": "code",
   "execution_count": null,
   "metadata": {
    "id": "NVTMU2L4iTds"
   },
   "outputs": [],
   "source": [
    "#********************************************************************************************************************************************************************************\n",
    "#Splitting the target variable\n",
    "#********************************************************************************************************************************************************************************\n",
    "x_train = train_df.loc[:, train_df.columns != 'BadCredit']\n",
    "ytrain = train_df.loc[:, train_df.columns == 'BadCredit']"
   ]
  },
  {
   "cell_type": "code",
   "execution_count": null,
   "metadata": {
    "id": "DZGl9eTUrU_J"
   },
   "outputs": [],
   "source": [
    "#********************************************************************************************************************************************************************************\n",
    "#Converting it to Dataframe\n",
    "#********************************************************************************************************************************************************************************\n",
    "x_train = pd.DataFrame(x_train)\n",
    "ytrain = pd.DataFrame(ytrain)"
   ]
  },
  {
   "cell_type": "code",
   "execution_count": null,
   "metadata": {
    "id": "HSMf109rd8P9"
   },
   "outputs": [],
   "source": [
    "le=LabelEncoder()\n",
    "x_train['Sex']= le.fit_transform(x_train['Sex'])\n",
    "x_train['City']= le.fit_transform(x_train['City'])\n",
    "x_train['Purpose']= le.fit_transform(x_train['Purpose'])\n",
    "x_train['Street']= le.fit_transform(x_train['Street'])\n"
   ]
  },
  {
   "cell_type": "code",
   "execution_count": null,
   "metadata": {
    "id": "XLg5YhS6rh4O"
   },
   "outputs": [],
   "source": [
    "#********************************************************************************************************************************************************************************\n",
    "#Dropping the features that have larger unique value\n",
    "#********************************************************************************************************************************************************************************\n",
    "x_train.drop(columns=['UserID','FirstName','LastName','NumberPets','LicensePlate'],inplace=True)"
   ]
  },
  {
   "cell_type": "code",
   "execution_count": null,
   "metadata": {
    "colab": {
     "base_uri": "https://localhost:8080/",
     "height": 443
    },
    "id": "ckPG1RsF17hM",
    "outputId": "27f2e00b-6ffe-436d-a1e8-744ac401952a"
   },
   "outputs": [
    {
     "data": {
      "text/html": [
       "<div>\n",
       "<style scoped>\n",
       "    .dataframe tbody tr th:only-of-type {\n",
       "        vertical-align: middle;\n",
       "    }\n",
       "\n",
       "    .dataframe tbody tr th {\n",
       "        vertical-align: top;\n",
       "    }\n",
       "\n",
       "    .dataframe thead th {\n",
       "        text-align: right;\n",
       "    }\n",
       "</style>\n",
       "<table border=\"1\" class=\"dataframe\">\n",
       "  <thead>\n",
       "    <tr style=\"text-align: right;\">\n",
       "      <th></th>\n",
       "      <th>Sex</th>\n",
       "      <th>PreviousDefault</th>\n",
       "      <th>PreviousAccounts</th>\n",
       "      <th>ResidenceDuration</th>\n",
       "      <th>Street</th>\n",
       "      <th>Married</th>\n",
       "      <th>Duration</th>\n",
       "      <th>City</th>\n",
       "      <th>Purpose</th>\n",
       "      <th>DateOfBirth</th>\n",
       "      <th>Age</th>\n",
       "      <th>amount</th>\n",
       "      <th>year</th>\n",
       "      <th>day</th>\n",
       "      <th>month</th>\n",
       "    </tr>\n",
       "  </thead>\n",
       "  <tbody>\n",
       "    <tr>\n",
       "      <th>0</th>\n",
       "      <td>1.0</td>\n",
       "      <td>0.0</td>\n",
       "      <td>-0.5</td>\n",
       "      <td>0.0</td>\n",
       "      <td>-0.906574</td>\n",
       "      <td>-1.0</td>\n",
       "      <td>-1.0</td>\n",
       "      <td>0.0</td>\n",
       "      <td>-0.666667</td>\n",
       "      <td>-0.428977</td>\n",
       "      <td>0.5</td>\n",
       "      <td>0.0</td>\n",
       "      <td>0.0</td>\n",
       "      <td>0.5</td>\n",
       "      <td>-0.5</td>\n",
       "    </tr>\n",
       "    <tr>\n",
       "      <th>1</th>\n",
       "      <td>0.0</td>\n",
       "      <td>0.0</td>\n",
       "      <td>0.5</td>\n",
       "      <td>0.0</td>\n",
       "      <td>0.202706</td>\n",
       "      <td>-1.0</td>\n",
       "      <td>1.0</td>\n",
       "      <td>-0.9</td>\n",
       "      <td>-0.666667</td>\n",
       "      <td>-1.185494</td>\n",
       "      <td>1.0</td>\n",
       "      <td>-0.8</td>\n",
       "      <td>-0.5</td>\n",
       "      <td>0.5</td>\n",
       "      <td>0.0</td>\n",
       "    </tr>\n",
       "    <tr>\n",
       "      <th>2</th>\n",
       "      <td>0.0</td>\n",
       "      <td>0.0</td>\n",
       "      <td>-0.5</td>\n",
       "      <td>0.5</td>\n",
       "      <td>-0.417459</td>\n",
       "      <td>-1.0</td>\n",
       "      <td>0.0</td>\n",
       "      <td>-1.0</td>\n",
       "      <td>-0.333333</td>\n",
       "      <td>0.195957</td>\n",
       "      <td>0.0</td>\n",
       "      <td>-0.8</td>\n",
       "      <td>0.5</td>\n",
       "      <td>0.5</td>\n",
       "      <td>-0.5</td>\n",
       "    </tr>\n",
       "    <tr>\n",
       "      <th>3</th>\n",
       "      <td>0.0</td>\n",
       "      <td>0.0</td>\n",
       "      <td>0.0</td>\n",
       "      <td>0.0</td>\n",
       "      <td>-0.940816</td>\n",
       "      <td>-1.0</td>\n",
       "      <td>0.5</td>\n",
       "      <td>-0.5</td>\n",
       "      <td>0.666667</td>\n",
       "      <td>0.454868</td>\n",
       "      <td>-0.5</td>\n",
       "      <td>0.8</td>\n",
       "      <td>0.5</td>\n",
       "      <td>0.0</td>\n",
       "      <td>-0.5</td>\n",
       "    </tr>\n",
       "    <tr>\n",
       "      <th>4</th>\n",
       "      <td>1.0</td>\n",
       "      <td>0.0</td>\n",
       "      <td>0.0</td>\n",
       "      <td>0.5</td>\n",
       "      <td>-0.616572</td>\n",
       "      <td>-1.0</td>\n",
       "      <td>1.0</td>\n",
       "      <td>0.1</td>\n",
       "      <td>1.000000</td>\n",
       "      <td>0.382515</td>\n",
       "      <td>0.0</td>\n",
       "      <td>0.0</td>\n",
       "      <td>0.5</td>\n",
       "      <td>1.0</td>\n",
       "      <td>0.0</td>\n",
       "    </tr>\n",
       "    <tr>\n",
       "      <th>...</th>\n",
       "      <td>...</td>\n",
       "      <td>...</td>\n",
       "      <td>...</td>\n",
       "      <td>...</td>\n",
       "      <td>...</td>\n",
       "      <td>...</td>\n",
       "      <td>...</td>\n",
       "      <td>...</td>\n",
       "      <td>...</td>\n",
       "      <td>...</td>\n",
       "      <td>...</td>\n",
       "      <td>...</td>\n",
       "      <td>...</td>\n",
       "      <td>...</td>\n",
       "      <td>...</td>\n",
       "    </tr>\n",
       "    <tr>\n",
       "      <th>4727</th>\n",
       "      <td>0.0</td>\n",
       "      <td>0.0</td>\n",
       "      <td>0.0</td>\n",
       "      <td>-0.5</td>\n",
       "      <td>0.981822</td>\n",
       "      <td>0.0</td>\n",
       "      <td>0.0</td>\n",
       "      <td>0.6</td>\n",
       "      <td>-0.333333</td>\n",
       "      <td>-0.078560</td>\n",
       "      <td>0.0</td>\n",
       "      <td>0.8</td>\n",
       "      <td>0.0</td>\n",
       "      <td>-0.5</td>\n",
       "      <td>-0.5</td>\n",
       "    </tr>\n",
       "    <tr>\n",
       "      <th>4728</th>\n",
       "      <td>0.0</td>\n",
       "      <td>0.0</td>\n",
       "      <td>0.0</td>\n",
       "      <td>-1.0</td>\n",
       "      <td>-0.274572</td>\n",
       "      <td>-1.0</td>\n",
       "      <td>0.5</td>\n",
       "      <td>0.1</td>\n",
       "      <td>-0.333333</td>\n",
       "      <td>0.047349</td>\n",
       "      <td>0.0</td>\n",
       "      <td>-0.8</td>\n",
       "      <td>0.0</td>\n",
       "      <td>1.0</td>\n",
       "      <td>1.0</td>\n",
       "    </tr>\n",
       "    <tr>\n",
       "      <th>4729</th>\n",
       "      <td>0.0</td>\n",
       "      <td>0.0</td>\n",
       "      <td>0.0</td>\n",
       "      <td>0.5</td>\n",
       "      <td>0.801733</td>\n",
       "      <td>0.0</td>\n",
       "      <td>1.0</td>\n",
       "      <td>-0.4</td>\n",
       "      <td>-1.333333</td>\n",
       "      <td>-0.578294</td>\n",
       "      <td>0.5</td>\n",
       "      <td>-0.8</td>\n",
       "      <td>-0.5</td>\n",
       "      <td>1.0</td>\n",
       "      <td>-0.5</td>\n",
       "    </tr>\n",
       "    <tr>\n",
       "      <th>4730</th>\n",
       "      <td>0.0</td>\n",
       "      <td>0.0</td>\n",
       "      <td>0.0</td>\n",
       "      <td>0.5</td>\n",
       "      <td>0.469034</td>\n",
       "      <td>-1.0</td>\n",
       "      <td>-1.0</td>\n",
       "      <td>-0.5</td>\n",
       "      <td>0.000000</td>\n",
       "      <td>-0.854229</td>\n",
       "      <td>1.0</td>\n",
       "      <td>0.8</td>\n",
       "      <td>-0.5</td>\n",
       "      <td>0.0</td>\n",
       "      <td>-0.5</td>\n",
       "    </tr>\n",
       "    <tr>\n",
       "      <th>4731</th>\n",
       "      <td>0.0</td>\n",
       "      <td>0.0</td>\n",
       "      <td>0.5</td>\n",
       "      <td>-1.0</td>\n",
       "      <td>0.348552</td>\n",
       "      <td>-1.0</td>\n",
       "      <td>0.5</td>\n",
       "      <td>0.1</td>\n",
       "      <td>-0.333333</td>\n",
       "      <td>1.965774</td>\n",
       "      <td>-0.5</td>\n",
       "      <td>1.6</td>\n",
       "      <td>1.0</td>\n",
       "      <td>0.0</td>\n",
       "      <td>0.5</td>\n",
       "    </tr>\n",
       "  </tbody>\n",
       "</table>\n",
       "<p>4732 rows × 15 columns</p>\n",
       "</div>"
      ],
      "text/plain": [
       "      Sex  PreviousDefault  PreviousAccounts  ...  year  day  month\n",
       "0     1.0              0.0              -0.5  ...   0.0  0.5   -0.5\n",
       "1     0.0              0.0               0.5  ...  -0.5  0.5    0.0\n",
       "2     0.0              0.0              -0.5  ...   0.5  0.5   -0.5\n",
       "3     0.0              0.0               0.0  ...   0.5  0.0   -0.5\n",
       "4     1.0              0.0               0.0  ...   0.5  1.0    0.0\n",
       "...   ...              ...               ...  ...   ...  ...    ...\n",
       "4727  0.0              0.0               0.0  ...   0.0 -0.5   -0.5\n",
       "4728  0.0              0.0               0.0  ...   0.0  1.0    1.0\n",
       "4729  0.0              0.0               0.0  ...  -0.5  1.0   -0.5\n",
       "4730  0.0              0.0               0.0  ...  -0.5  0.0   -0.5\n",
       "4731  0.0              0.0               0.5  ...   1.0  0.0    0.5\n",
       "\n",
       "[4732 rows x 15 columns]"
      ]
     },
     "execution_count": 68,
     "metadata": {},
     "output_type": "execute_result"
    }
   ],
   "source": [
    "#********************************************************************************************************************************************************************************\n",
    "#Standardize features\n",
    "#********************************************************************************************************************************************************************************\n",
    "Scaled = pd.DataFrame(RobustScaler().fit_transform(x_train), columns=x_train.columns)\n",
    "Scaled"
   ]
  },
  {
   "cell_type": "code",
   "execution_count": null,
   "metadata": {
    "id": "zTTN7K4qsZxR"
   },
   "outputs": [],
   "source": [
    "yScaled = pd.DataFrame(RobustScaler().fit_transform(ytrain), columns=ytrain.columns)"
   ]
  },
  {
   "cell_type": "code",
   "execution_count": null,
   "metadata": {
    "colab": {
     "base_uri": "https://localhost:8080/"
    },
    "id": "IZHAoI8_wCc0",
    "outputId": "30b243df-a517-4b48-ebdf-8c5b378bddd0"
   },
   "outputs": [
    {
     "name": "stdout",
     "output_type": "stream",
     "text": [
      "0.8328402366863905\n",
      "0.16715976331360946\n"
     ]
    }
   ],
   "source": [
    "#********************************************************************************************************************************************************************************\n",
    "#Checking if the target variable is balanced\n",
    "#********************************************************************************************************************************************************************************\n",
    "\n",
    "a_target_0 = ytrain[ytrain.BadCredit == 0].BadCredit.count() / ytrain.BadCredit.count()\n",
    "a_target_1 = ytrain[ytrain.BadCredit == 1].BadCredit.count() / ytrain.BadCredit.count()\n",
    "\n",
    "print(a_target_0)\n",
    "print(a_target_1)"
   ]
  },
  {
   "cell_type": "code",
   "execution_count": null,
   "metadata": {
    "id": "N7ekW6drwFq7"
   },
   "outputs": [],
   "source": [
    "#********************************************************************************************************************************************************************************\n",
    "#Splitting the target variable\n",
    "#********************************************************************************************************************************************************************************\n",
    "a = Scaled.loc[:, Scaled.columns != 'BadCredit']\n",
    "b = yScaled"
   ]
  },
  {
   "cell_type": "code",
   "execution_count": null,
   "metadata": {
    "id": "DymCgtAZwIhh"
   },
   "outputs": [],
   "source": [
    "#********************************************************************************************************************************************************************************\n",
    "#Applying OverSample technique to handle the imbalance\n",
    "#********************************************************************************************************************************************************************************\n",
    "oversample = SMOTE()\n",
    "a_over,b_over = oversample.fit_resample(a,b)"
   ]
  },
  {
   "cell_type": "code",
   "execution_count": null,
   "metadata": {
    "colab": {
     "base_uri": "https://localhost:8080/"
    },
    "id": "JvL8HaoxwLfo",
    "outputId": "74d8ff7e-58d4-486f-8b1d-61f7744fabca"
   },
   "outputs": [
    {
     "name": "stdout",
     "output_type": "stream",
     "text": [
      "0.5\n",
      "0.5\n"
     ]
    }
   ],
   "source": [
    "#********************************************************************************************************************************************************************************\n",
    "#Checking if the dataset is balanced\n",
    "#********************************************************************************************************************************************************************************\n",
    "a_target_0 = b_over[b_over.BadCredit == 0].BadCredit.count() / b_over.BadCredit.count()\n",
    "a_target_1 = b_over[b_over.BadCredit == 1].BadCredit.count() / b_over.BadCredit.count()\n",
    "\n",
    "print(a_target_0)\n",
    "print(a_target_1)"
   ]
  },
  {
   "cell_type": "code",
   "execution_count": null,
   "metadata": {
    "colab": {
     "base_uri": "https://localhost:8080/",
     "height": 846
    },
    "id": "fg60D9tmwVcR",
    "outputId": "1cd02436-32c8-4ff5-924b-9840e2023870"
   },
   "outputs": [
    {
     "name": "stdout",
     "output_type": "stream",
     "text": [
      "Sex                -0.017923\n",
      "PreviousAccounts   -0.010159\n",
      "Street             -0.003535\n",
      "month              -0.000411\n",
      "City                0.008203\n",
      "Duration            0.087318\n",
      "year                0.589924\n",
      "DateOfBirth         0.603015\n",
      "amount              0.607988\n",
      "BadCredit           1.000000\n",
      "Name: BadCredit, dtype: float64\n"
     ]
    },
    {
     "data": {
      "text/plain": [
       "<Figure size 1440x1440 with 0 Axes>"
      ]
     },
     "execution_count": 74,
     "metadata": {},
     "output_type": "execute_result"
    },
    {
     "data": {
      "text/plain": [
       "<matplotlib.axes._subplots.AxesSubplot at 0x7f20b333cad0>"
      ]
     },
     "execution_count": 74,
     "metadata": {},
     "output_type": "execute_result"
    },
    {
     "data": {
      "image/png": "[encoded data removed]",
      "text/plain": [
       "<Figure size 1440x1440 with 2 Axes>"
      ]
     },
     "metadata": {},
     "output_type": "display_data"
    }
   ],
   "source": [
    "#********************************************************************************************************************************************************************************\n",
    "# Visualizing Correlation map\n",
    "#********************************************************************************************************************************************************************************\n",
    "train = pd.concat([a_over,b_over],axis=1)\n",
    "cm_b = train.corr()\n",
    "\n",
    "print(cm_b.BadCredit.sort_values().tail(10))\n",
    "\n",
    "plt.figure(figsize=(20,20))\n",
    "sns.heatmap(cm_b, xticklabels=train.columns, yticklabels=train.columns,annot=True)"
   ]
  },
  {
   "cell_type": "code",
   "execution_count": null,
   "metadata": {
    "colab": {
     "base_uri": "https://localhost:8080/"
    },
    "id": "r22EfkpMxaLv",
    "outputId": "0e77e0b1-b5db-4e3a-dc90-2a91eb5c97b8"
   },
   "outputs": [
    {
     "data": {
      "text/plain": [
       "RandomForestClassifier()"
      ]
     },
     "execution_count": 75,
     "metadata": {},
     "output_type": "execute_result"
    },
    {
     "name": "stdout",
     "output_type": "stream",
     "text": [
      "[0.93]\n"
     ]
    }
   ],
   "source": [
    "#********************************************************************************************************************************************************************************\n",
    "#Checking CV Score\n",
    "#********************************************************************************************************************************************************************************\n",
    "train_cross_scores = []\n",
    "\n",
    "for key, classifier in classifiers.items():\n",
    "    classifier.fit(a_over, b_over['BadCredit'])\n",
    "    train_score = cross_val_score(classifier, a_over, b_over['BadCredit'], cv=5,scoring='f1_weighted')\n",
    "    train_cross_scores.append(round(train_score.mean(),2))\n",
    "  \n",
    "    \n",
    "print(train_cross_scores)"
   ]
  },
  {
   "cell_type": "markdown",
   "metadata": {
    "id": "xxsWj0Z6soHg"
   },
   "source": [
    "# **Comparison of Model Performance:**\n",
    "Cross validation score - F1 Weighted after feature engineering improved by 0.07 from baseline.\n",
    "\n",
    "![image.png](data:image/png;base64,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)"
   ]
  },
  {
   "cell_type": "markdown",
   "metadata": {
    "id": "PsdD0clko5pz"
   },
   "source": [
    "## 3.3: Feature selection"
   ]
  },
  {
   "cell_type": "code",
   "execution_count": null,
   "metadata": {
    "id": "rxX2ERqzpqxi"
   },
   "outputs": [],
   "source": [
    "#********************************************************************************************************************************************************************************\n",
    "#Selecting features using Feature Selection\n",
    "#********************************************************************************************************************************************************************************\n",
    "selector = VarianceThreshold()\n",
    "X_train_new=selector.fit_transform(a_over)\n",
    "\n"
   ]
  },
  {
   "cell_type": "code",
   "execution_count": null,
   "metadata": {
    "colab": {
     "base_uri": "https://localhost:8080/"
    },
    "id": "cgN7s9VZzPGh",
    "outputId": "4efc4848-ac35-4d8a-f31d-99d1ddb41447"
   },
   "outputs": [
    {
     "data": {
      "text/plain": [
       "RandomForestClassifier()"
      ]
     },
     "execution_count": 77,
     "metadata": {},
     "output_type": "execute_result"
    },
    {
     "name": "stdout",
     "output_type": "stream",
     "text": [
      "[0.93]\n"
     ]
    }
   ],
   "source": [
    "#********************************************************************************************************************************************************************************\n",
    "#Checking for CV Scores\n",
    "#********************************************************************************************************************************************************************************\n",
    "train_cross_scores = []\n",
    "\n",
    "for key, classifier in classifiers.items():\n",
    "    classifier.fit(X_train_new, b_over['BadCredit'])\n",
    "    train_score = cross_val_score(classifier, X_train_new, b_over['BadCredit'], cv=5,scoring='f1_weighted')\n",
    "    train_cross_scores.append(round(train_score.mean(),2))\n",
    "  \n",
    "    \n",
    "print(train_cross_scores)"
   ]
  },
  {
   "cell_type": "markdown",
   "metadata": {
    "id": "4N78kkKVuXGr"
   },
   "source": [
    "The Score did not improve from feature engineering. Feature Selection was not making much difference. The score is same.\n",
    "\n",
    "![image.png](data:image/png;base64,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)"
   ]
  },
  {
   "cell_type": "markdown",
   "metadata": {
    "id": "Ff4l2aNKo5fr"
   },
   "source": [
    "## 3.4: Hyperparameter tuning"
   ]
  },
  {
   "cell_type": "code",
   "execution_count": null,
   "metadata": {
    "id": "2Y6ehnbrjpsd"
   },
   "outputs": [],
   "source": [
    "#********************************************************************************************************************************************************************************\n",
    "#Applying Hypertuning \n",
    "#********************************************************************************************************************************************************************************\n",
    "rfc_params = {'n_estimators':[5],\n",
    "              'criterion':['gini', 'entropy'],\n",
    "              'max_depth':[50,None],\n",
    "              'min_samples_split':[2]}\n",
    "\n",
    "\n",
    "grid_rfc = GridSearchCV(RandomForestClassifier(), \n",
    "                        rfc_params, \n",
    "                        cv=5, \n",
    "                        scoring='f1_micro').fit(X_train_new, b_over['BadCredit'])"
   ]
  },
  {
   "cell_type": "code",
   "execution_count": null,
   "metadata": {
    "colab": {
     "base_uri": "https://localhost:8080/"
    },
    "id": "6UmLYcwtkGbI",
    "outputId": "9669c0af-3a84-4a23-aa01-e6c135ad3157"
   },
   "outputs": [
    {
     "data": {
      "text/plain": [
       "0.9180519298674795"
      ]
     },
     "execution_count": 79,
     "metadata": {},
     "output_type": "execute_result"
    }
   ],
   "source": [
    "#********************************************************************************************************************************************************************************\n",
    "#Checking the best score\n",
    "#********************************************************************************************************************************************************************************\n",
    "grid_rfc.best_score_"
   ]
  },
  {
   "cell_type": "markdown",
   "metadata": {
    "id": "nU02hXj1xoCI"
   },
   "source": [
    "After Hypertuning, score reduced a bit as the model learnt about the data nicely. Overfitting is avoided.\n",
    "\n",
    "![image.png](data:image/png;base64,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)"
   ]
  },
  {
   "cell_type": "code",
   "execution_count": null,
   "metadata": {
    "colab": {
     "base_uri": "https://localhost:8080/"
    },
    "id": "_656ZQnHkL8s",
    "outputId": "a178cbc9-2fed-45e2-fe2f-ba14cd10534d"
   },
   "outputs": [
    {
     "data": {
      "text/plain": [
       "RandomForestClassifier(max_depth=50, n_estimators=5)"
      ]
     },
     "execution_count": 80,
     "metadata": {},
     "output_type": "execute_result"
    }
   ],
   "source": [
    "grid_rfc.best_estimator_"
   ]
  },
  {
   "cell_type": "code",
   "execution_count": null,
   "metadata": {
    "id": "ZkinqUKs80Jx"
   },
   "outputs": [],
   "source": [
    "#********************************************************************************************************************************************************************************\n",
    "#Feature engineering the test variables\n",
    "#********************************************************************************************************************************************************************************\n",
    "X_test.DateOfBirth = pd.to_datetime(X_test.DateOfBirth, format='%Y-%m-%d')\n",
    "X_test['year']  = X_test.DateOfBirth.dt.year\n",
    "X_test['month'] = X_test.DateOfBirth.dt.month\n",
    "X_test['day'] = X_test.DateOfBirth.dt.day\n",
    "\n",
    "def Age(data):\n",
    "  now = datetime.now().year\n",
    "  data['Age'] = now- data['year']\n",
    "  data['Age']=data['Age'].replace([2021],0)\n",
    "  return data\n",
    "\n",
    "X_test= Age(X_test)\n",
    "X_test['DateOfBirth']=X_test['DateOfBirth'].apply(lambda x: x.toordinal())\n",
    "\n",
    "\n",
    "\n",
    "for x in X_test.columns:\n",
    "  if X_test[x].dtype == 'object':\n",
    "    X_test[x]= X_test[x].astype('category')\n",
    "\n",
    "\n",
    "\n"
   ]
  },
  {
   "cell_type": "code",
   "execution_count": null,
   "metadata": {
    "id": "vzRk7BP9tiGJ"
   },
   "outputs": [],
   "source": [
    "X_test = X_test.drop(labels=['UserID','FirstName','LastName','NumberPets','LicensePlate'], axis=1)"
   ]
  },
  {
   "cell_type": "code",
   "execution_count": null,
   "metadata": {
    "id": "h7V5jwmpDUp6"
   },
   "outputs": [],
   "source": [
    "#********************************************************************************************************************************************************************************\n",
    "#Feature engineering the test variables\n",
    "#********************************************************************************************************************************************************************************\n",
    "test_df = pd.concat([X_test,y_test],axis=1)\n",
    "\n",
    "test_df['age_binned'] = pd.qcut(test_df.Age, q=[0, .25, .50, .75, 1])\n",
    "test_df['amt_binned'] = pd.qcut(test_df.Amount, q=[0, .25, .50, .75, 1])\n",
    "test_df['year_binned'] = pd.qcut(test_df.year, q=[0, .25, .50, .75, 1])\n",
    "test_df['day_binned'] = pd.qcut(test_df.day, q=[0, .25, .50, .75, 1])\n",
    "test_df['month_binned'] = pd.qcut(test_df.month, q=[0, .25, .50, .75, 1])\n",
    "\n",
    "test_df.drop(columns=['Age', 'Amount', 'year','day','month'], inplace=True)\n",
    "\n",
    "test_df['Age']= le.fit_transform(test_df['age_binned'])\n",
    "test_df['amount']= le.fit_transform(test_df['amt_binned'])\n",
    "test_df['year']= le.fit_transform(test_df['year_binned'])\n",
    "test_df['day']= le.fit_transform(test_df['day_binned'])\n",
    "test_df['month']= le.fit_transform(test_df['month_binned'])\n",
    "\n",
    "test_df.drop(columns=['age_binned','amt_binned','year_binned','day_binned','month_binned'],inplace=True)"
   ]
  },
  {
   "cell_type": "code",
   "execution_count": null,
   "metadata": {
    "id": "P_GtDp-UYsWG"
   },
   "outputs": [],
   "source": [
    "#********************************************************************************************************************************************************************************\n",
    "#Converting it to DataFrame\n",
    "#********************************************************************************************************************************************************************************\n",
    "y_b_test = pd.to_numeric(y_test)\n"
   ]
  },
  {
   "cell_type": "code",
   "execution_count": null,
   "metadata": {
    "id": "SKjxRXN2ZRPZ"
   },
   "outputs": [],
   "source": [
    "#********************************************************************************************************************************************************************************\n",
    "#Label Encoding the test features\n",
    "#********************************************************************************************************************************************************************************\n",
    "test_df['Sex']= le.fit_transform(test_df['Sex'])\n",
    "test_df['City']= le.fit_transform(test_df['City'])\n",
    "test_df['Purpose']= le.fit_transform(test_df['Purpose'])\n",
    "test_df['Street']= le.fit_transform(test_df['Street'])"
   ]
  },
  {
   "cell_type": "code",
   "execution_count": null,
   "metadata": {
    "id": "WYyW9RmNDFw4"
   },
   "outputs": [],
   "source": [
    "#********************************************************************************************************************************************************************************\n",
    "#More Feature enginnering\n",
    "#********************************************************************************************************************************************************************************\n",
    "Scaled = pd.DataFrame(RobustScaler().fit_transform(test_df), columns=test_df.columns)\n",
    "\n",
    "c = Scaled.loc[:, Scaled.columns != 'BadCredit']\n",
    "d = Scaled.loc[:, Scaled.columns == 'BadCredit']\n",
    "\n",
    "c_over,d_over = oversample.fit_resample(c,d)\n",
    "\n",
    "X_test_new=selector.fit_transform(c_over)\n",
    "\n"
   ]
  },
  {
   "cell_type": "code",
   "execution_count": null,
   "metadata": {
    "id": "KKW8QpaZ638F"
   },
   "outputs": [],
   "source": [
    "#********************************************************************************************************************************************************************************\n",
    "#Predicting on the test data\n",
    "#********************************************************************************************************************************************************************************\n",
    "y_pred = grid_rfc.predict(X_test_new)"
   ]
  },
  {
   "cell_type": "markdown",
   "metadata": {
    "id": "Te9gGGLEpXRG"
   },
   "source": [
    "## 3.5: Performance estimation"
   ]
  },
  {
   "cell_type": "code",
   "execution_count": null,
   "metadata": {
    "colab": {
     "base_uri": "https://localhost:8080/"
    },
    "id": "YV_35bEupbfs",
    "outputId": "f10636c6-ae9f-4522-959a-7d968684b06d"
   },
   "outputs": [
    {
     "name": "stdout",
     "output_type": "stream",
     "text": [
      "RFM Test test set Accuracy:  0.8728557013118062\n",
      "RFM test set F1 score:  0.8728551834530285\n",
      "RFM test set classification report: \n",
      "              precision    recall  f1-score   support\n",
      "\n",
      "         0.0       0.87      0.87      0.87       991\n",
      "         1.0       0.87      0.87      0.87       991\n",
      "\n",
      "    accuracy                           0.87      1982\n",
      "   macro avg       0.87      0.87      0.87      1982\n",
      "weighted avg       0.87      0.87      0.87      1982\n",
      "\n"
     ]
    }
   ],
   "source": [
    "#********************************************************************************************************************************************************************************\n",
    "#Measuring the performance\n",
    "#********************************************************************************************************************************************************************************\n",
    "print('RFM Test test set Accuracy: ', metrics.accuracy_score(d_over, y_pred))\n",
    "print('RFM test set F1 score: ', metrics.f1_score(d_over, y_pred,average='weighted'))\n",
    "print('RFM test set classification report: ')\n",
    "print(classification_report(d_over, y_pred))\n",
    "\n",
    "\n"
   ]
  },
  {
   "cell_type": "markdown",
   "metadata": {
    "id": "jPbD5cY7x3s6"
   },
   "source": [
    "Finally, when testing set is applied. the weighted average F1 score is 0.87.\n",
    "\n",
    "![image.png](data:image/png;base64,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)"
   ]
  },
  {
   "cell_type": "code",
   "execution_count": null,
   "metadata": {
    "colab": {
     "base_uri": "https://localhost:8080/",
     "height": 374
    },
    "id": "UG7ZiaZ6LAyc",
    "outputId": "f674e965-6454-417b-f719-cb1deb5c5e3c"
   },
   "outputs": [
    {
     "data": {
      "text/plain": [
       "(<Figure size 576x360 with 1 Axes>,\n",
       " <matplotlib.axes._subplots.AxesSubplot at 0x7f20ac4f1ad0>)"
      ]
     },
     "execution_count": 89,
     "metadata": {},
     "output_type": "execute_result"
    },
    {
     "data": {
      "image/png": "[encoded data removed]",
      "text/plain": [
       "<Figure size 576x360 with 1 Axes>"
      ]
     },
     "metadata": {},
     "output_type": "display_data"
    }
   ],
   "source": [
    "#********************************************************************************************************************************************************************************\n",
    "#Plotting the confusion matrix\n",
    "#********************************************************************************************************************************************************************************\n",
    "cm_rfm = confusion_matrix(d_over['BadCredit'], y_pred.flatten())\n",
    "plot_confusion_matrix(cm_rfm)\n",
    "plt.show()"
   ]
  },
  {
   "cell_type": "markdown",
   "metadata": {
    "id": "62CHdxR22s0h"
   },
   "source": [
    "Our Model has predicted as below⁉\n",
    "The Data Cleansing, feature engineering, Feature Selection, balancing the dataset and Hypertuning the parameters helped us avoid bias and overfitting. In Risk perspective, we should be more careful in reducing the False negative numbers. RFM model has given a decent number for False Negative.\n",
    "\n",
    "![image.png](data:image/png;base64,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)"
   ]
  }
 ],
 "metadata": {
  "colab": {
   "collapsed_sections": [],
   "name": "Copy of MMA/GMMA 2022 869 Individual Assignment.ipynb",
   "provenance": []
  },
  "kernelspec": {
   "display_name": "Python 3",
   "language": "python",
   "name": "python3"
  },
  "language_info": {
   "codemirror_mode": {
    "name": "ipython",
    "version": 3
   },
   "file_extension": ".py",
   "mimetype": "text/x-python",
   "name": "python",
   "nbconvert_exporter": "python",
   "pygments_lexer": "ipython3",
   "version": "3.6.5"
  }
 },
 "nbformat": 4,
 "nbformat_minor": 1
}
